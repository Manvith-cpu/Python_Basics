{
 "cells": [
  {
   "cell_type": "code",
   "execution_count": 1,
   "id": "d15f1762-d0bc-4d18-af70-2572130aa17b",
   "metadata": {},
   "outputs": [
    {
     "name": "stdout",
     "output_type": "stream",
     "text": [
      "Manvith\n",
      "<class 'str'>\n"
     ]
    }
   ],
   "source": [
    "# String\n",
    "s=\"Manvith\"\n",
    "print(s)\n",
    "print(type(s))"
   ]
  },
  {
   "cell_type": "code",
   "execution_count": 7,
   "id": "51182746-7c9e-46c4-8d81-07c6077fc68f",
   "metadata": {},
   "outputs": [
    {
     "name": "stdout",
     "output_type": "stream",
     "text": [
      "[1, 3, 5, 1.2, 'pwskills']\n",
      "<class 'list'>\n"
     ]
    }
   ],
   "source": [
    "# List\n",
    "l=[1,3,5,1.2,\"pwskills\"]\n",
    "print(l)\n",
    "print(type(l))"
   ]
  },
  {
   "cell_type": "code",
   "execution_count": 4,
   "id": "fcde78fc-e929-4d44-8926-38aabd5b72f0",
   "metadata": {},
   "outputs": [
    {
     "name": "stdout",
     "output_type": "stream",
     "text": [
      "1.34\n",
      "<class 'float'>\n"
     ]
    }
   ],
   "source": [
    "# float\n",
    "f=1.34\n",
    "print(f)\n",
    "print(type(f))"
   ]
  },
  {
   "cell_type": "code",
   "execution_count": 6,
   "id": "67a0944c-1c17-4890-9036-3b52b9681b33",
   "metadata": {},
   "outputs": [
    {
     "name": "stdout",
     "output_type": "stream",
     "text": [
      "(1, 2, 3, 4, 1.34)\n",
      "<class 'tuple'>\n"
     ]
    }
   ],
   "source": [
    "# tuple\n",
    "t=(1,2,3,4,1.34)\n",
    "print(t)\n",
    "print(type(t))"
   ]
  }
 ],
 "metadata": {
  "kernelspec": {
   "display_name": "Python 3 (ipykernel)",
   "language": "python",
   "name": "python3"
  },
  "language_info": {
   "codemirror_mode": {
    "name": "ipython",
    "version": 3
   },
   "file_extension": ".py",
   "mimetype": "text/x-python",
   "name": "python",
   "nbconvert_exporter": "python",
   "pygments_lexer": "ipython3",
   "version": "3.10.8"
  }
 },
 "nbformat": 4,
 "nbformat_minor": 5
}

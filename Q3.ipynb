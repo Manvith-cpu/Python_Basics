{
 "cells": [
  {
   "cell_type": "markdown",
   "id": "0b65f23d-470e-48a1-b756-91e89766dcc5",
   "metadata": {},
   "source": [
    "1. Use of / is a division operator result will be float type"
   ]
  },
  {
   "cell_type": "code",
   "execution_count": 1,
   "id": "ca6f0a5d-0161-40e9-b0cc-1e45bf7e930c",
   "metadata": {},
   "outputs": [
    {
     "data": {
      "text/plain": [
       "1.5"
      ]
     },
     "execution_count": 1,
     "metadata": {},
     "output_type": "execute_result"
    }
   ],
   "source": [
    "a=3/2\n",
    "a"
   ]
  },
  {
   "cell_type": "markdown",
   "id": "d979e257-0b72-45aa-a9c1-4b5909604c20",
   "metadata": {},
   "source": [
    "2. % is used to get remainder"
   ]
  },
  {
   "cell_type": "code",
   "execution_count": 2,
   "id": "75ea7404-5d65-4d3b-a3b2-25a40b788b21",
   "metadata": {},
   "outputs": [
    {
     "data": {
      "text/plain": [
       "3"
      ]
     },
     "execution_count": 2,
     "metadata": {},
     "output_type": "execute_result"
    }
   ],
   "source": [
    "b=15%4\n",
    "b"
   ]
  },
  {
   "cell_type": "markdown",
   "id": "1688a28c-b37d-44af-bf76-c7951d30ed02",
   "metadata": {},
   "source": [
    "3. // is also a division operator result will be int type"
   ]
  },
  {
   "cell_type": "code",
   "execution_count": 3,
   "id": "8cb89d83-de3d-41ff-9a4f-802cd5d041fe",
   "metadata": {},
   "outputs": [
    {
     "data": {
      "text/plain": [
       "2"
      ]
     },
     "execution_count": 3,
     "metadata": {},
     "output_type": "execute_result"
    }
   ],
   "source": [
    "c=5//2\n",
    "c"
   ]
  },
  {
   "cell_type": "markdown",
   "id": "ede85eab-abaa-46c5-a6fe-a64f7b4a095b",
   "metadata": {},
   "source": [
    "4. ** is used to get power of number"
   ]
  },
  {
   "cell_type": "code",
   "execution_count": 4,
   "id": "7907b838-9d7d-4fb2-9438-2c6d731aac6b",
   "metadata": {},
   "outputs": [
    {
     "data": {
      "text/plain": [
       "8"
      ]
     },
     "execution_count": 4,
     "metadata": {},
     "output_type": "execute_result"
    }
   ],
   "source": [
    "d=2**3\n",
    "d"
   ]
  }
 ],
 "metadata": {
  "kernelspec": {
   "display_name": "Python 3 (ipykernel)",
   "language": "python",
   "name": "python3"
  },
  "language_info": {
   "codemirror_mode": {
    "name": "ipython",
    "version": 3
   },
   "file_extension": ".py",
   "mimetype": "text/x-python",
   "name": "python",
   "nbconvert_exporter": "python",
   "pygments_lexer": "ipython3",
   "version": "3.10.8"
  }
 },
 "nbformat": 4,
 "nbformat_minor": 5
}

{
 "cells": [
  {
   "cell_type": "markdown",
   "id": "9744ef4d-e4d5-4db2-a65f-58f068abb5f5",
   "metadata": {},
   "source": [
    "Mutable is the one which can be changed at that index whereas immutable are the ones which cannot be changed \n",
    "Ex:\n",
    "String is immutable\n",
    "List is mutable"
   ]
  },
  {
   "cell_type": "code",
   "execution_count": 1,
   "id": "31fc252f-be1b-48f6-8f68-1fc3736b79b3",
   "metadata": {},
   "outputs": [],
   "source": [
    "s=\"Manvith\"\n",
    "l=[1,2,3]"
   ]
  },
  {
   "cell_type": "code",
   "execution_count": 2,
   "id": "3aac0b3f-a53e-4005-8909-524adb092cbb",
   "metadata": {},
   "outputs": [
    {
     "data": {
      "text/plain": [
       "'n'"
      ]
     },
     "execution_count": 2,
     "metadata": {},
     "output_type": "execute_result"
    }
   ],
   "source": [
    "s[2]"
   ]
  },
  {
   "cell_type": "code",
   "execution_count": 3,
   "id": "18f95352-6641-4303-86fd-ff3febbba73c",
   "metadata": {},
   "outputs": [
    {
     "data": {
      "text/plain": [
       "3"
      ]
     },
     "execution_count": 3,
     "metadata": {},
     "output_type": "execute_result"
    }
   ],
   "source": [
    "l[2]"
   ]
  },
  {
   "cell_type": "code",
   "execution_count": 4,
   "id": "0fab6f9b-5392-473c-8da7-0d325b7f050d",
   "metadata": {},
   "outputs": [
    {
     "ename": "TypeError",
     "evalue": "'str' object does not support item assignment",
     "output_type": "error",
     "traceback": [
      "\u001b[0;31m---------------------------------------------------------------------------\u001b[0m",
      "\u001b[0;31mTypeError\u001b[0m                                 Traceback (most recent call last)",
      "Cell \u001b[0;32mIn[4], line 1\u001b[0m\n\u001b[0;32m----> 1\u001b[0m \u001b[43ms\u001b[49m\u001b[43m[\u001b[49m\u001b[38;5;241;43m2\u001b[39;49m\u001b[43m]\u001b[49m\u001b[38;5;241m=\u001b[39m\u001b[38;5;124m\"\u001b[39m\u001b[38;5;124mf\u001b[39m\u001b[38;5;124m\"\u001b[39m\n",
      "\u001b[0;31mTypeError\u001b[0m: 'str' object does not support item assignment"
     ]
    }
   ],
   "source": [
    "s[2]=\"f\""
   ]
  },
  {
   "cell_type": "code",
   "execution_count": 5,
   "id": "f2d2963a-72ab-4df8-9a8c-86b784d2cef9",
   "metadata": {},
   "outputs": [],
   "source": [
    "l[2]=4"
   ]
  },
  {
   "cell_type": "code",
   "execution_count": 6,
   "id": "73d8c4cf-94af-41ed-8b64-719fbf26f06e",
   "metadata": {},
   "outputs": [
    {
     "data": {
      "text/plain": [
       "[1, 2, 4]"
      ]
     },
     "execution_count": 6,
     "metadata": {},
     "output_type": "execute_result"
    }
   ],
   "source": [
    "l"
   ]
  },
  {
   "cell_type": "code",
   "execution_count": 8,
   "id": "47ecdf96-df29-41c6-adc9-0dae03fe24ee",
   "metadata": {},
   "outputs": [
    {
     "data": {
      "text/plain": [
       "'Manvith'"
      ]
     },
     "execution_count": 8,
     "metadata": {},
     "output_type": "execute_result"
    }
   ],
   "source": [
    "s"
   ]
  }
 ],
 "metadata": {
  "kernelspec": {
   "display_name": "Python 3 (ipykernel)",
   "language": "python",
   "name": "python3"
  },
  "language_info": {
   "codemirror_mode": {
    "name": "ipython",
    "version": 3
   },
   "file_extension": ".py",
   "mimetype": "text/x-python",
   "name": "python",
   "nbconvert_exporter": "python",
   "pygments_lexer": "ipython3",
   "version": "3.10.8"
  }
 },
 "nbformat": 4,
 "nbformat_minor": 5
}
